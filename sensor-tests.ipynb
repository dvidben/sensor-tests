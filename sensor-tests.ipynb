{
	"cells": [
		{
			"metadata": {
				"_uuid": "8f2839f25d086af736a60e9eeb907d3b93b6e0e5",
				"_cell_guid": "b1076dfc-b9ad-4769-8c92-a6c4dae69d19",
				"trusted": true
			},
			"cell_type": "code",
			"source": "# This Python 3 environment comes with many helpful analytics libraries installed\n# It is defined by the kaggle/python Docker image: https://github.com/kaggle/docker-python\n# For example, here's several helpful packages to load\n\nimport numpy as np # linear algebra\nimport pandas as pd # data processing, CSV file I/O (e.g. pd.read_csv)\n\n# Input data files are available in the read-only \"../input/\" directory\n# For example, running this (by clicking run or pressing Shift+Enter) will list all files under the input directory\n\nimport os\nfor dirname, _, filenames in os.walk('/kaggle/input'):\n    for filename in filenames:\n        print(os.path.join(dirname, filename))\n\n# You can write up to 20GB to the current directory (/kaggle/working/) that gets preserved as output when you create a version using \"Save & Run All\" \n# You can also write temporary files to /kaggle/temp/, but they won't be saved outside of the current session",
			"execution_count": 26,
			"outputs": [
				{
					"output_type": "stream",
					"text": "/kaggle/input/pump-sensor-data/sensor.csv\n",
					"name": "stdout"
				}
			]
		},
		{
			"metadata": {
				"trusted": true
			},
			"cell_type": "code",
			"source": "df = pd.read_csv(\"../input/pump-sensor-data/sensor.csv\")\ndf.info()",
			"execution_count": 21,
			"outputs": [
				{
					"output_type": "stream",
					"text": "<class 'pandas.core.frame.DataFrame'>\nRangeIndex: 220320 entries, 0 to 220319\nData columns (total 55 columns):\n #   Column          Non-Null Count   Dtype  \n---  ------          --------------   -----  \n 0   Unnamed: 0      220320 non-null  int64  \n 1   timestamp       220320 non-null  object \n 2   sensor_00       210112 non-null  float64\n 3   sensor_01       219951 non-null  float64\n 4   sensor_02       220301 non-null  float64\n 5   sensor_03       220301 non-null  float64\n 6   sensor_04       220301 non-null  float64\n 7   sensor_05       220301 non-null  float64\n 8   sensor_06       215522 non-null  float64\n 9   sensor_07       214869 non-null  float64\n 10  sensor_08       215213 non-null  float64\n 11  sensor_09       215725 non-null  float64\n 12  sensor_10       220301 non-null  float64\n 13  sensor_11       220301 non-null  float64\n 14  sensor_12       220301 non-null  float64\n 15  sensor_13       220301 non-null  float64\n 16  sensor_14       220299 non-null  float64\n 17  sensor_15       0 non-null       float64\n 18  sensor_16       220289 non-null  float64\n 19  sensor_17       220274 non-null  float64\n 20  sensor_18       220274 non-null  float64\n 21  sensor_19       220304 non-null  float64\n 22  sensor_20       220304 non-null  float64\n 23  sensor_21       220304 non-null  float64\n 24  sensor_22       220279 non-null  float64\n 25  sensor_23       220304 non-null  float64\n 26  sensor_24       220304 non-null  float64\n 27  sensor_25       220284 non-null  float64\n 28  sensor_26       220300 non-null  float64\n 29  sensor_27       220304 non-null  float64\n 30  sensor_28       220304 non-null  float64\n 31  sensor_29       220248 non-null  float64\n 32  sensor_30       220059 non-null  float64\n 33  sensor_31       220304 non-null  float64\n 34  sensor_32       220252 non-null  float64\n 35  sensor_33       220304 non-null  float64\n 36  sensor_34       220304 non-null  float64\n 37  sensor_35       220304 non-null  float64\n 38  sensor_36       220304 non-null  float64\n 39  sensor_37       220304 non-null  float64\n 40  sensor_38       220293 non-null  float64\n 41  sensor_39       220293 non-null  float64\n 42  sensor_40       220293 non-null  float64\n 43  sensor_41       220293 non-null  float64\n 44  sensor_42       220293 non-null  float64\n 45  sensor_43       220293 non-null  float64\n 46  sensor_44       220293 non-null  float64\n 47  sensor_45       220293 non-null  float64\n 48  sensor_46       220293 non-null  float64\n 49  sensor_47       220293 non-null  float64\n 50  sensor_48       220293 non-null  float64\n 51  sensor_49       220293 non-null  float64\n 52  sensor_50       143303 non-null  float64\n 53  sensor_51       204937 non-null  float64\n 54  machine_status  220320 non-null  object \ndtypes: float64(52), int64(1), object(2)\nmemory usage: 92.5+ MB\n",
					"name": "stdout"
				}
			]
		},
		{
			"metadata": {},
			"cell_type": "markdown",
			"source": "# Data cleanup\n1. Missing columns\n"
		},
		{
			"metadata": {
				"trusted": true
			},
			"cell_type": "code",
			"source": "#remove missing column(s)\nmissing_columns = [col for col in df.columns if df[col].isnull().all()]\nmissing_columns",
			"execution_count": 27,
			"outputs": [
				{
					"output_type": "execute_result",
					"execution_count": 27,
					"data": {
						"text/plain": "['sensor_15']"
					},
					"metadata": {}
				}
			]
		},
		{
			"metadata": {
				"trusted": true
			},
			"cell_type": "code",
			"source": "clean_df = df.drop(axis=1, columns=missing_columns)\nclean_df.info()",
			"execution_count": 43,
			"outputs": [
				{
					"output_type": "stream",
					"text": "<class 'pandas.core.frame.DataFrame'>\nRangeIndex: 220320 entries, 0 to 220319\nData columns (total 54 columns):\n #   Column          Non-Null Count   Dtype  \n---  ------          --------------   -----  \n 0   Unnamed: 0      220320 non-null  int64  \n 1   timestamp       220320 non-null  object \n 2   sensor_00       210112 non-null  float64\n 3   sensor_01       219951 non-null  float64\n 4   sensor_02       220301 non-null  float64\n 5   sensor_03       220301 non-null  float64\n 6   sensor_04       220301 non-null  float64\n 7   sensor_05       220301 non-null  float64\n 8   sensor_06       215522 non-null  float64\n 9   sensor_07       214869 non-null  float64\n 10  sensor_08       215213 non-null  float64\n 11  sensor_09       215725 non-null  float64\n 12  sensor_10       220301 non-null  float64\n 13  sensor_11       220301 non-null  float64\n 14  sensor_12       220301 non-null  float64\n 15  sensor_13       220301 non-null  float64\n 16  sensor_14       220299 non-null  float64\n 17  sensor_16       220289 non-null  float64\n 18  sensor_17       220274 non-null  float64\n 19  sensor_18       220274 non-null  float64\n 20  sensor_19       220304 non-null  float64\n 21  sensor_20       220304 non-null  float64\n 22  sensor_21       220304 non-null  float64\n 23  sensor_22       220279 non-null  float64\n 24  sensor_23       220304 non-null  float64\n 25  sensor_24       220304 non-null  float64\n 26  sensor_25       220284 non-null  float64\n 27  sensor_26       220300 non-null  float64\n 28  sensor_27       220304 non-null  float64\n 29  sensor_28       220304 non-null  float64\n 30  sensor_29       220248 non-null  float64\n 31  sensor_30       220059 non-null  float64\n 32  sensor_31       220304 non-null  float64\n 33  sensor_32       220252 non-null  float64\n 34  sensor_33       220304 non-null  float64\n 35  sensor_34       220304 non-null  float64\n 36  sensor_35       220304 non-null  float64\n 37  sensor_36       220304 non-null  float64\n 38  sensor_37       220304 non-null  float64\n 39  sensor_38       220293 non-null  float64\n 40  sensor_39       220293 non-null  float64\n 41  sensor_40       220293 non-null  float64\n 42  sensor_41       220293 non-null  float64\n 43  sensor_42       220293 non-null  float64\n 44  sensor_43       220293 non-null  float64\n 45  sensor_44       220293 non-null  float64\n 46  sensor_45       220293 non-null  float64\n 47  sensor_46       220293 non-null  float64\n 48  sensor_47       220293 non-null  float64\n 49  sensor_48       220293 non-null  float64\n 50  sensor_49       220293 non-null  float64\n 51  sensor_50       143303 non-null  float64\n 52  sensor_51       204937 non-null  float64\n 53  machine_status  220320 non-null  object \ndtypes: float64(51), int64(1), object(2)\nmemory usage: 90.8+ MB\n",
					"name": "stdout"
				}
			]
		},
		{
			"metadata": {},
			"cell_type": "markdown",
			"source": "2. Remove duplicated rows"
		},
		{
			"metadata": {
				"trusted": true
			},
			"cell_type": "code",
			"source": "clean_df = clean_df.drop_duplicates()",
			"execution_count": 44,
			"outputs": []
		},
		{
			"metadata": {
				"trusted": true
			},
			"cell_type": "code",
			"source": "timeseries_df = clean_df.copy()\ntimeseries_df['ts'] = pd.to_datetime(timeseries_df['timestamp'])\ndel timeseries_df['timestamp']\nprint(timeseries_df['ts'])",
			"execution_count": 46,
			"outputs": [
				{
					"output_type": "stream",
					"text": "0        2018-04-01 00:00:00\n1        2018-04-01 00:01:00\n2        2018-04-01 00:02:00\n3        2018-04-01 00:03:00\n4        2018-04-01 00:04:00\n                 ...        \n220315   2018-08-31 23:55:00\n220316   2018-08-31 23:56:00\n220317   2018-08-31 23:57:00\n220318   2018-08-31 23:58:00\n220319   2018-08-31 23:59:00\nName: ts, Length: 220320, dtype: datetime64[ns]\n",
					"name": "stdout"
				}
			]
		},
		{
			"metadata": {
				"trusted": true
			},
			"cell_type": "code",
			"source": "pd.DataFrame(timeseries_df.isnull().sum().sort_values(ascending=False)/len(timeseries_df), columns=['percent']) ",
			"execution_count": 48,
			"outputs": [
				{
					"output_type": "execute_result",
					"execution_count": 48,
					"data": {
						"text/plain": "                    0\nsensor_50       77017\nsensor_51       15383\nsensor_00       10208\nsensor_07        5451\nsensor_08        5107\nsensor_06        4798\nsensor_09        4595\nsensor_01         369\nsensor_30         261\nsensor_29          72\nsensor_32          68\nsensor_17          46\nsensor_18          46\nsensor_22          41\nsensor_25          36\nsensor_16          31\nsensor_47          27\nsensor_40          27\nsensor_49          27\nsensor_38          27\nsensor_39          27\nsensor_42          27\nsensor_41          27\nsensor_48          27\nsensor_44          27\nsensor_45          27\nsensor_46          27\nsensor_43          27\nsensor_14          21\nsensor_26          20\nsensor_02          19\nsensor_03          19\nsensor_04          19\nsensor_05          19\nsensor_10          19\nsensor_11          19\nsensor_12          19\nsensor_13          19\nsensor_28          16\nsensor_31          16\nsensor_19          16\nsensor_20          16\nsensor_21          16\nsensor_23          16\nsensor_24          16\nsensor_37          16\nsensor_36          16\nsensor_35          16\nsensor_34          16\nsensor_33          16\nsensor_27          16\nmachine_status      0\nUnnamed: 0          0\nts                  0",
						"text/html": "<div>\n<style scoped>\n    .dataframe tbody tr th:only-of-type {\n        vertical-align: middle;\n    }\n\n    .dataframe tbody tr th {\n        vertical-align: top;\n    }\n\n    .dataframe thead th {\n        text-align: right;\n    }\n</style>\n<table border=\"1\" class=\"dataframe\">\n  <thead>\n    <tr style=\"text-align: right;\">\n      <th></th>\n      <th>0</th>\n    </tr>\n  </thead>\n  <tbody>\n    <tr>\n      <th>sensor_50</th>\n      <td>77017</td>\n    </tr>\n    <tr>\n      <th>sensor_51</th>\n      <td>15383</td>\n    </tr>\n    <tr>\n      <th>sensor_00</th>\n      <td>10208</td>\n    </tr>\n    <tr>\n      <th>sensor_07</th>\n      <td>5451</td>\n    </tr>\n    <tr>\n      <th>sensor_08</th>\n      <td>5107</td>\n    </tr>\n    <tr>\n      <th>sensor_06</th>\n      <td>4798</td>\n    </tr>\n    <tr>\n      <th>sensor_09</th>\n      <td>4595</td>\n    </tr>\n    <tr>\n      <th>sensor_01</th>\n      <td>369</td>\n    </tr>\n    <tr>\n      <th>sensor_30</th>\n      <td>261</td>\n    </tr>\n    <tr>\n      <th>sensor_29</th>\n      <td>72</td>\n    </tr>\n    <tr>\n      <th>sensor_32</th>\n      <td>68</td>\n    </tr>\n    <tr>\n      <th>sensor_17</th>\n      <td>46</td>\n    </tr>\n    <tr>\n      <th>sensor_18</th>\n      <td>46</td>\n    </tr>\n    <tr>\n      <th>sensor_22</th>\n      <td>41</td>\n    </tr>\n    <tr>\n      <th>sensor_25</th>\n      <td>36</td>\n    </tr>\n    <tr>\n      <th>sensor_16</th>\n      <td>31</td>\n    </tr>\n    <tr>\n      <th>sensor_47</th>\n      <td>27</td>\n    </tr>\n    <tr>\n      <th>sensor_40</th>\n      <td>27</td>\n    </tr>\n    <tr>\n      <th>sensor_49</th>\n      <td>27</td>\n    </tr>\n    <tr>\n      <th>sensor_38</th>\n      <td>27</td>\n    </tr>\n    <tr>\n      <th>sensor_39</th>\n      <td>27</td>\n    </tr>\n    <tr>\n      <th>sensor_42</th>\n      <td>27</td>\n    </tr>\n    <tr>\n      <th>sensor_41</th>\n      <td>27</td>\n    </tr>\n    <tr>\n      <th>sensor_48</th>\n      <td>27</td>\n    </tr>\n    <tr>\n      <th>sensor_44</th>\n      <td>27</td>\n    </tr>\n    <tr>\n      <th>sensor_45</th>\n      <td>27</td>\n    </tr>\n    <tr>\n      <th>sensor_46</th>\n      <td>27</td>\n    </tr>\n    <tr>\n      <th>sensor_43</th>\n      <td>27</td>\n    </tr>\n    <tr>\n      <th>sensor_14</th>\n      <td>21</td>\n    </tr>\n    <tr>\n      <th>sensor_26</th>\n      <td>20</td>\n    </tr>\n    <tr>\n      <th>sensor_02</th>\n      <td>19</td>\n    </tr>\n    <tr>\n      <th>sensor_03</th>\n      <td>19</td>\n    </tr>\n    <tr>\n      <th>sensor_04</th>\n      <td>19</td>\n    </tr>\n    <tr>\n      <th>sensor_05</th>\n      <td>19</td>\n    </tr>\n    <tr>\n      <th>sensor_10</th>\n      <td>19</td>\n    </tr>\n    <tr>\n      <th>sensor_11</th>\n      <td>19</td>\n    </tr>\n    <tr>\n      <th>sensor_12</th>\n      <td>19</td>\n    </tr>\n    <tr>\n      <th>sensor_13</th>\n      <td>19</td>\n    </tr>\n    <tr>\n      <th>sensor_28</th>\n      <td>16</td>\n    </tr>\n    <tr>\n      <th>sensor_31</th>\n      <td>16</td>\n    </tr>\n    <tr>\n      <th>sensor_19</th>\n      <td>16</td>\n    </tr>\n    <tr>\n      <th>sensor_20</th>\n      <td>16</td>\n    </tr>\n    <tr>\n      <th>sensor_21</th>\n      <td>16</td>\n    </tr>\n    <tr>\n      <th>sensor_23</th>\n      <td>16</td>\n    </tr>\n    <tr>\n      <th>sensor_24</th>\n      <td>16</td>\n    </tr>\n    <tr>\n      <th>sensor_37</th>\n      <td>16</td>\n    </tr>\n    <tr>\n      <th>sensor_36</th>\n      <td>16</td>\n    </tr>\n    <tr>\n      <th>sensor_35</th>\n      <td>16</td>\n    </tr>\n    <tr>\n      <th>sensor_34</th>\n      <td>16</td>\n    </tr>\n    <tr>\n      <th>sensor_33</th>\n      <td>16</td>\n    </tr>\n    <tr>\n      <th>sensor_27</th>\n      <td>16</td>\n    </tr>\n    <tr>\n      <th>machine_status</th>\n      <td>0</td>\n    </tr>\n    <tr>\n      <th>Unnamed: 0</th>\n      <td>0</td>\n    </tr>\n    <tr>\n      <th>ts</th>\n      <td>0</td>\n    </tr>\n  </tbody>\n</table>\n</div>"
					},
					"metadata": {}
				}
			]
		}
	],
	"metadata": {
		"kernelspec": {
			"name": "python3",
			"display_name": "Python 3",
			"language": "python"
		},
		"language_info": {
			"name": "python",
			"version": "3.7.9",
			"mimetype": "text/x-python",
			"codemirror_mode": {
				"name": "ipython",
				"version": 3
			},
			"pygments_lexer": "ipython3",
			"nbconvert_exporter": "python",
			"file_extension": ".py"
		}
	},
	"nbformat": 4,
	"nbformat_minor": 4
}